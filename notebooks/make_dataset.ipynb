{
 "cells": [
  {
   "cell_type": "markdown",
   "metadata": {},
   "source": [
    "## Data Preprocessing for the MICCAI 2020 HEad and neCK TumOR segmentation challenge [(HECKTOR)](https://www.aicrowd.com/challenges/miccai-2020-hecktor)"
   ]
  },
  {
   "cell_type": "code",
   "execution_count": 1,
   "metadata": {},
   "outputs": [],
   "source": [
    "import os\n",
    "import sys\n",
    "import pathlib\n",
    "\n",
    "import numpy as np\n",
    "import pandas as pd\n",
    "import SimpleITK as sitk\n",
    "from tqdm.notebook import tqdm\n",
    "\n",
    "import matplotlib.pyplot as plt\n",
    "%matplotlib inline\n",
    "\n",
    "sys.path.append('../')\n",
    "from src.data.utils import read_nifti, write_nifti, get_attributes, resample_sitk_image"
   ]
  },
  {
   "cell_type": "markdown",
   "metadata": {},
   "source": [
    "### Summary:"
   ]
  },
  {
   "cell_type": "markdown",
   "metadata": {},
   "source": [
    "Dataset:\n",
    "- Each data sample (patient) consists of PET & CT images and a GTVt (primary Gross Tumor Volume) mask provided in NIfTI format.\n",
    "- PET & CT images for a single patient might occupy different regions in physical space, i.e., the images have a different size (number of pixels per dimension), origin, spacing and direction cosine matrix (axis directions in physical space).\n",
    "- For each case, a bounding box of the size of 144x144x144 mm is available. Segmentation must be performed within the bounding box. \n",
    "\n",
    "This notebook shows the way to transform (resample) a pair of PET & CT images for each patient to a common reference space and to extract a region of interest (a bounding box). Transformed images will be saved in NIfTI format.\n",
    "\n",
    "**From now onward, the train set preprocessing will be demonstrated. For the test set preprocessing, all operations with ground truth labels (segmentation masks) must be omitted.**"
   ]
  },
  {
   "cell_type": "markdown",
   "metadata": {},
   "source": [
    "#### Input / Output paths:"
   ]
  },
  {
   "cell_type": "code",
   "execution_count": 2,
   "metadata": {},
   "outputs": [],
   "source": [
    "path_to_input = pathlib.Path('C:/inserm/hecktor/hecktor_train/hecktor_nii/')\n",
    "path_to_bb = pathlib.Path('C:/inserm/hecktor/hecktor_train/bbox.csv')\n",
    "\n",
    "path_to_output = pathlib.Path('C:/inserm/hecktor/hecktor_train/hecktor_nii_resampled/')"
   ]
  },
  {
   "cell_type": "markdown",
   "metadata": {},
   "source": [
    "#### Bounding boxes:"
   ]
  },
  {
   "cell_type": "code",
   "execution_count": 3,
   "metadata": {},
   "outputs": [
    {
     "data": {
      "text/html": [
       "<div>\n",
       "<style scoped>\n",
       "    .dataframe tbody tr th:only-of-type {\n",
       "        vertical-align: middle;\n",
       "    }\n",
       "\n",
       "    .dataframe tbody tr th {\n",
       "        vertical-align: top;\n",
       "    }\n",
       "\n",
       "    .dataframe thead th {\n",
       "        text-align: right;\n",
       "    }\n",
       "</style>\n",
       "<table border=\"1\" class=\"dataframe\">\n",
       "  <thead>\n",
       "    <tr style=\"text-align: right;\">\n",
       "      <th></th>\n",
       "      <th>PatientID</th>\n",
       "      <th>x1</th>\n",
       "      <th>x2</th>\n",
       "      <th>y1</th>\n",
       "      <th>y2</th>\n",
       "      <th>z1</th>\n",
       "      <th>z2</th>\n",
       "    </tr>\n",
       "  </thead>\n",
       "  <tbody>\n",
       "    <tr>\n",
       "      <th>0</th>\n",
       "      <td>CHGJ007</td>\n",
       "      <td>-65.039062</td>\n",
       "      <td>75.585938</td>\n",
       "      <td>-166.992188</td>\n",
       "      <td>-26.367188</td>\n",
       "      <td>-204.050262</td>\n",
       "      <td>-60.170746</td>\n",
       "    </tr>\n",
       "    <tr>\n",
       "      <th>1</th>\n",
       "      <td>CHGJ008</td>\n",
       "      <td>-65.039062</td>\n",
       "      <td>75.585938</td>\n",
       "      <td>-166.992188</td>\n",
       "      <td>-26.367188</td>\n",
       "      <td>-460.319519</td>\n",
       "      <td>-316.438660</td>\n",
       "    </tr>\n",
       "    <tr>\n",
       "      <th>2</th>\n",
       "      <td>CHGJ010</td>\n",
       "      <td>-72.070312</td>\n",
       "      <td>68.554688</td>\n",
       "      <td>-135.351562</td>\n",
       "      <td>5.273438</td>\n",
       "      <td>-232.130219</td>\n",
       "      <td>-88.250702</td>\n",
       "    </tr>\n",
       "    <tr>\n",
       "      <th>3</th>\n",
       "      <td>CHGJ013</td>\n",
       "      <td>-75.585938</td>\n",
       "      <td>65.039062</td>\n",
       "      <td>-152.929688</td>\n",
       "      <td>-12.304688</td>\n",
       "      <td>-242.630219</td>\n",
       "      <td>-98.750702</td>\n",
       "    </tr>\n",
       "    <tr>\n",
       "      <th>4</th>\n",
       "      <td>CHGJ015</td>\n",
       "      <td>-65.039062</td>\n",
       "      <td>75.585938</td>\n",
       "      <td>-152.929688</td>\n",
       "      <td>-12.304688</td>\n",
       "      <td>-243.780273</td>\n",
       "      <td>-99.900757</td>\n",
       "    </tr>\n",
       "  </tbody>\n",
       "</table>\n",
       "</div>"
      ],
      "text/plain": [
       "  PatientID         x1         x2          y1         y2          z1  \\\n",
       "0   CHGJ007 -65.039062  75.585938 -166.992188 -26.367188 -204.050262   \n",
       "1   CHGJ008 -65.039062  75.585938 -166.992188 -26.367188 -460.319519   \n",
       "2   CHGJ010 -72.070312  68.554688 -135.351562   5.273438 -232.130219   \n",
       "3   CHGJ013 -75.585938  65.039062 -152.929688 -12.304688 -242.630219   \n",
       "4   CHGJ015 -65.039062  75.585938 -152.929688 -12.304688 -243.780273   \n",
       "\n",
       "           z2  \n",
       "0  -60.170746  \n",
       "1 -316.438660  \n",
       "2  -88.250702  \n",
       "3  -98.750702  \n",
       "4  -99.900757  "
      ]
     },
     "execution_count": 3,
     "metadata": {},
     "output_type": "execute_result"
    }
   ],
   "source": [
    "bb = pd.read_csv(path_to_bb)\n",
    "bb.head()"
   ]
  },
  {
   "cell_type": "code",
   "execution_count": 4,
   "metadata": {},
   "outputs": [
    {
     "name": "stdout",
     "output_type": "stream",
     "text": [
      "Total number of patients: 201\n"
     ]
    }
   ],
   "source": [
    "patients = list(bb.PatientID)\n",
    "print(f'Total number of patients: {len(patients)}')"
   ]
  },
  {
   "cell_type": "code",
   "execution_count": 5,
   "metadata": {},
   "outputs": [
    {
     "name": "stdout",
     "output_type": "stream",
     "text": [
      "Available data for the patient CHUS101:\n",
      "['CHUS101_ct.nii.gz', 'CHUS101_ct_gtvt.nii.gz', 'CHUS101_pt.nii.gz']\n"
     ]
    }
   ],
   "source": [
    "n = -1\n",
    "print(f'Available data for the patient {patients[n]}:')\n",
    "print(os.listdir(path_to_input / patients[n]))"
   ]
  },
  {
   "cell_type": "markdown",
   "metadata": {},
   "source": [
    "####  Extract patches and resample:"
   ]
  },
  {
   "cell_type": "code",
   "execution_count": 6,
   "metadata": {},
   "outputs": [
    {
     "name": "stdout",
     "output_type": "stream",
     "text": [
      "Resampled images will be saved in C:\\inserm\\hecktor\\hecktor_train\\hecktor_nii_resampled\n"
     ]
    }
   ],
   "source": [
    "print(f'Resampled images will be saved in {path_to_output}')\n",
    "\n",
    "if not os.path.exists(path_to_output):\n",
    "    os.makedirs(path_to_output, exist_ok=True)"
   ]
  },
  {
   "cell_type": "code",
   "execution_count": 7,
   "metadata": {},
   "outputs": [
    {
     "data": {
      "application/vnd.jupyter.widget-view+json": {
       "model_id": "96b2f152cc8c47158edda564ce425ee9",
       "version_major": 2,
       "version_minor": 0
      },
      "text/plain": [
       "HBox(children=(FloatProgress(value=0.0, max=201.0), HTML(value='')))"
      ]
     },
     "metadata": {},
     "output_type": "display_data"
    },
    {
     "name": "stdout",
     "output_type": "stream",
     "text": [
      "\n"
     ]
    }
   ],
   "source": [
    "for p in tqdm(patients):\n",
    "    # Read images:\n",
    "    img_ct = read_nifti(path_to_input / p / (p + '_ct.nii.gz'))\n",
    "    img_pt = read_nifti(path_to_input / p / (p + '_pt.nii.gz'))\n",
    "    mask = read_nifti(path_to_input / p / (p + '_ct_gtvt.nii.gz'))\n",
    "    \n",
    "    # Get bounding boxes:\n",
    "    pt1 = bb.loc[bb.PatientID == p, ['x1', 'y1', 'z1']]\n",
    "    pt2 = bb.loc[bb.PatientID == p, ['x2', 'y2', 'z2']]\n",
    "    pt1, pt2 = tuple(*pt1.values), tuple(*pt2.values)\n",
    "    \n",
    "    # Convert physcial points into array indexes:\n",
    "    pt1_ct = img_ct.TransformPhysicalPointToIndex(pt1)\n",
    "    pt1_pt = img_pt.TransformPhysicalPointToIndex(pt1)\n",
    "    pt1_mask = mask.TransformPhysicalPointToIndex(pt1)\n",
    "\n",
    "    pt2_ct = img_ct.TransformPhysicalPointToIndex(pt2)\n",
    "    pt2_pt = img_pt.TransformPhysicalPointToIndex(pt2)\n",
    "    pt2_mask = mask.TransformPhysicalPointToIndex(pt2)\n",
    "    \n",
    "    # Exctract the patch:\n",
    "    cr_img_ct = img_ct[pt1_ct[0]: pt2_ct[0], pt1_ct[1]: pt2_ct[1], pt1_ct[2]: pt2_ct[2]]\n",
    "    cr_img_pt = img_pt[pt1_pt[0]: pt2_pt[0], pt1_pt[1]: pt2_pt[1], pt1_pt[2]: pt2_pt[2]]\n",
    "    cr_mask = mask[pt1_mask[0]: pt2_mask[0], pt1_mask[1]: pt2_mask[1], pt1_mask[2]: pt2_mask[2]]\n",
    "        \n",
    "    # Resample all images using CT attributes:\n",
    "    # CT:\n",
    "    cr_img_ct = resample_sitk_image(cr_img_ct, \n",
    "                                    new_spacing=[1, 1, 1],\n",
    "                                    new_size=[144, 144, 144],\n",
    "                                    interpolator=sitk.sitkLinear)\n",
    "    target_size = list(cr_img_ct.GetSize())\n",
    "    attributes = get_attributes(cr_img_ct)\n",
    "    \n",
    "    # PT:\n",
    "    cr_img_pt = resample_sitk_image(cr_img_pt, \n",
    "                                    new_spacing=[1, 1, 1], \n",
    "                                    new_size=target_size, \n",
    "                                    attributes=attributes,\n",
    "                                    interpolator=sitk.sitkLinear)\n",
    "    \n",
    "    # Mask:\n",
    "    cr_mask = resample_sitk_image(cr_mask, \n",
    "                                  new_spacing=[1, 1, 1], \n",
    "                                  new_size=target_size, \n",
    "                                  attributes=attributes,\n",
    "                                  interpolator=sitk.sitkNearestNeighbor)\n",
    "    \n",
    "    # Save resampled images:\n",
    "    if not os.path.exists(path_to_output / p):\n",
    "        os.makedirs(path_to_output / p, exist_ok=True)\n",
    "    \n",
    "    write_nifti(cr_img_ct, path_to_output / p / (p + '_ct.nii.gz'))\n",
    "    write_nifti(cr_img_pt, path_to_output / p / (p + '_pt.nii.gz'))\n",
    "    write_nifti(cr_mask, path_to_output / p / (p + '_ct_gtvt.nii.gz'))"
   ]
  },
  {
   "cell_type": "markdown",
   "metadata": {},
   "source": [
    "####  Check resampled images:"
   ]
  },
  {
   "cell_type": "code",
   "execution_count": 8,
   "metadata": {},
   "outputs": [],
   "source": [
    "n = 0\n",
    "p = patients[n]\n",
    "\n",
    "img_ct = read_nifti(path_to_output / p / (p + '_ct.nii.gz'))\n",
    "img_pt = read_nifti(path_to_output / p / (p + '_pt.nii.gz'))\n",
    "mask = read_nifti(path_to_output / p / (p + '_ct_gtvt.nii.gz'))"
   ]
  },
  {
   "cell_type": "code",
   "execution_count": 9,
   "metadata": {},
   "outputs": [
    {
     "name": "stdout",
     "output_type": "stream",
     "text": [
      "SIZE:\n",
      "CT: \t(144, 144, 144) \n",
      "PET: \t(144, 144, 144) \n",
      "Mask: \t(144, 144, 144)\n",
      "----------------------------------------\n",
      "SPACING:\n",
      "CT: \t(1.0, 1.0, 1.0) \n",
      "PET: \t(1.0, 1.0, 1.0) \n",
      "Mask: \t(1.0, 1.0, 1.0)\n",
      "----------------------------------------\n",
      "ORIGIN:\n",
      "CT: \t(-65.42977905273438, -166.9922332763672, -204.05026245117188) \n",
      "PET: \t(-65.42977905273438, -166.9922332763672, -204.05026245117188) \n",
      "Mask: \t(-65.42977905273438, -166.9922332763672, -204.05026245117188)\n",
      "----------------------------------------\n",
      "DIRECTION:\n",
      "CT: \t(1.0, 0.0, 0.0, 0.0, 1.0, 0.0, 0.0, 0.0, 1.0) \n",
      "PET: \t(1.0, 0.0, 0.0, 0.0, 1.0, 0.0, 0.0, 0.0, 1.0) \n",
      "Mask: \t(1.0, 0.0, 0.0, 0.0, 1.0, 0.0, 0.0, 0.0, 1.0)\n"
     ]
    }
   ],
   "source": [
    "print(f'SIZE:')\n",
    "print(f'CT: \\t{img_ct.GetSize()} \\nPET: \\t{img_pt.GetSize()} \\nMask: \\t{mask.GetSize()}')\n",
    "print('-' * 40)\n",
    "print(f'SPACING:')\n",
    "print(f'CT: \\t{img_ct.GetSpacing()} \\nPET: \\t{img_pt.GetSpacing()} \\nMask: \\t{mask.GetSpacing()}') \n",
    "print('-' * 40)\n",
    "print(f'ORIGIN:')\n",
    "print(f'CT: \\t{img_ct.GetOrigin()} \\nPET: \\t{img_pt.GetOrigin()} \\nMask: \\t{mask.GetOrigin()}') \n",
    "print('-' * 40)\n",
    "print(f'DIRECTION:')\n",
    "print(f'CT: \\t{img_ct.GetDirection()} \\nPET: \\t{img_pt.GetDirection()} \\nMask: \\t{mask.GetDirection()}') "
   ]
  },
  {
   "cell_type": "markdown",
   "metadata": {},
   "source": [
    "#### Visualization:"
   ]
  },
  {
   "cell_type": "code",
   "execution_count": 10,
   "metadata": {},
   "outputs": [],
   "source": [
    "from copy import copy"
   ]
  },
  {
   "cell_type": "code",
   "execution_count": 11,
   "metadata": {},
   "outputs": [],
   "source": [
    "img_ct = sitk.GetArrayFromImage(img_ct)\n",
    "img_pt = sitk.GetArrayFromImage(img_pt)\n",
    "mask = sitk.GetArrayFromImage(mask)"
   ]
  },
  {
   "cell_type": "code",
   "execution_count": 12,
   "metadata": {},
   "outputs": [],
   "source": [
    "img_ct_mask = np.ma.masked_where(img_ct * mask != 0, img_ct)\n",
    "img_pt_mask = np.ma.masked_where(img_pt * mask != 0, img_pt)"
   ]
  },
  {
   "cell_type": "code",
   "execution_count": 13,
   "metadata": {},
   "outputs": [
    {
     "data": {
      "image/png": "[encoded data removed]",
      "text/plain": [
       "<Figure size 1400x1000 with 4 Axes>"
      ]
     },
     "metadata": {},
     "output_type": "display_data"
    }
   ],
   "source": [
    "s = 75\n",
    "\n",
    "plt.rcdefaults()\n",
    "palette = copy(plt.cm.Greys_r)\n",
    "palette.set_bad(color='r', alpha=1)  # set color for the mask\n",
    "\n",
    "fig, axes = plt.subplots(1, 4, figsize=(14, 10))\n",
    "axes[0].imshow(img_ct[:, :, s], cmap=plt.cm.Greys_r, interpolation='none')\n",
    "axes[1].imshow(img_pt[:, :, s], cmap=plt.cm.Greys_r, interpolation='none')\n",
    "axes[2].imshow(img_ct_mask[:, :, s], cmap=palette, interpolation='none')\n",
    "axes[3].imshow(img_pt_mask[:, :, s], cmap=palette, interpolation='none')\n",
    "plt.tight_layout()\n",
    "plt.show()"
   ]
  },
  {
   "cell_type": "code",
   "execution_count": null,
   "metadata": {},
   "outputs": [],
   "source": []
  }
 ],
 "metadata": {
  "kernelspec": {
   "display_name": "Python 3.7.11 ('LXY')",
   "language": "python",
   "name": "python3"
  },
  "language_info": {
   "codemirror_mode": {
    "name": "ipython",
    "version": 3
   },
   "file_extension": ".py",
   "mimetype": "text/x-python",
   "name": "python",
   "nbconvert_exporter": "python",
   "pygments_lexer": "ipython3",
   "version": "3.7.11"
  },
  "vscode": {
   "interpreter": {
    "hash": "32a2cbeea9700764ced4d08790e3f5568f8232dfa059309a28f25817c009fb33"
   }
  }
 },
 "nbformat": 4,
 "nbformat_minor": 2
}
